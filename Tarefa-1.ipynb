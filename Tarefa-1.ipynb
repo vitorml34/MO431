{
 "cells": [
  {
   "cell_type": "markdown",
   "id": "ab2cf4a7",
   "metadata": {},
   "source": [
    "## 1) Lendo o arquivo *dados.npy* e salvando na matrix X"
   ]
  },
  {
   "cell_type": "code",
   "execution_count": 55,
   "id": "3e944671",
   "metadata": {},
   "outputs": [],
   "source": [
    "import numpy as np\n",
    "import matplotlib.pyplot as pp\n",
    "\n",
    "#1: Lendo o arquivo dados.npy\n",
    "X = np.load('dados.npy')"
   ]
  },
  {
   "cell_type": "markdown",
   "id": "ec8406fb",
   "metadata": {},
   "source": [
    "## 2) Imprimindo os três primeiros dígitos de X"
   ]
  },
  {
   "cell_type": "markdown",
   "id": "acf60833",
   "metadata": {},
   "source": [
    "### Primeiro dígito:"
   ]
  },
  {
   "cell_type": "code",
   "execution_count": 56,
   "id": "aea4b0ed",
   "metadata": {},
   "outputs": [
    {
     "data": {
      "text/plain": [
       "<matplotlib.image.AxesImage at 0x7f978ef7ef10>"
      ]
     },
     "execution_count": 56,
     "metadata": {},
     "output_type": "execute_result"
    },
    {
     "data": {
      "image/png": "[encoded data removed]",
      "text/plain": [
       "<Figure size 432x288 with 1 Axes>"
      ]
     },
     "metadata": {
      "needs_background": "light"
     },
     "output_type": "display_data"
    }
   ],
   "source": [
    "dig0 = np.reshape(X[0],(28,28))\n",
    "pp.imshow(dig0, cmap='gray')"
   ]
  },
  {
   "cell_type": "markdown",
   "id": "7dfd37e8",
   "metadata": {},
   "source": [
    "### Segundo dígito:"
   ]
  },
  {
   "cell_type": "code",
   "execution_count": 57,
   "id": "f661cb03",
   "metadata": {},
   "outputs": [
    {
     "data": {
      "text/plain": [
       "<matplotlib.image.AxesImage at 0x7f978eed9610>"
      ]
     },
     "execution_count": 57,
     "metadata": {},
     "output_type": "execute_result"
    },
    {
     "data": {
      "image/png": "[encoded data removed]",
      "text/plain": [
       "<Figure size 432x288 with 1 Axes>"
      ]
     },
     "metadata": {
      "needs_background": "light"
     },
     "output_type": "display_data"
    }
   ],
   "source": [
    "dig1 = np.reshape(X[1],(28,28))\n",
    "pp.imshow(dig1, cmap='gray')"
   ]
  },
  {
   "cell_type": "markdown",
   "id": "aefef4b6",
   "metadata": {},
   "source": [
    "### Terceiro dígito:"
   ]
  },
  {
   "cell_type": "code",
   "execution_count": 58,
   "id": "f7224c37",
   "metadata": {},
   "outputs": [
    {
     "data": {
      "text/plain": [
       "<matplotlib.image.AxesImage at 0x7f978eeaacd0>"
      ]
     },
     "execution_count": 58,
     "metadata": {},
     "output_type": "execute_result"
    },
    {
     "data": {
      "image/png": "[encoded data removed]",
      "text/plain": [
       "<Figure size 432x288 with 1 Axes>"
      ]
     },
     "metadata": {
      "needs_background": "light"
     },
     "output_type": "display_data"
    }
   ],
   "source": [
    "dig2 = np.reshape(X[2],(28,28))\n",
    "pp.imshow(dig2, cmap='gray')"
   ]
  }
 ],
 "metadata": {
  "kernelspec": {
   "display_name": "Python 3",
   "language": "python",
   "name": "python3"
  },
  "language_info": {
   "codemirror_mode": {
    "name": "ipython",
    "version": 3
   },
   "file_extension": ".py",
   "mimetype": "text/x-python",
   "name": "python",
   "nbconvert_exporter": "python",
   "pygments_lexer": "ipython3",
   "version": "3.8.5"
  }
 },
 "nbformat": 4,
 "nbformat_minor": 5
}
