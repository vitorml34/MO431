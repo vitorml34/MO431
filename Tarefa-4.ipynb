{
  "nbformat": 4,
  "nbformat_minor": 0,
  "metadata": {
    "colab": {
      "name": "Tarefa4.ipynb",
      "provenance": [],
      "collapsed_sections": []
    },
    "kernelspec": {
      "name": "python3",
      "display_name": "Python 3"
    },
    "language_info": {
      "name": "python"
    }
  },
  "cells": [
    {
      "cell_type": "markdown",
      "metadata": {
        "id": "IK611fp_Bh2U"
      },
      "source": [
        "##Grupo\n",
        "227124 Jorge Henrique Monteiro dos Santos\n",
        "\n",
        "262251 Vitor Mello de Araujo Lima\n",
        "\n",
        "##Objetivo\n",
        "\n",
        "Fazer a busca dos melhores hiperparametros para uma SVM para Regressão num banco de dados em particular.\n",
        "\n",
        "X.npy são os dados de entrada, e y.npy são os valores de saída correspondentes.\n",
        "\n",
        "Os seguintes algoritmos de otimização serão utilizados durante a execução dessa tarefa:\n",
        "\n",
        "- Random search\n",
        "- Grid search\n",
        "- Bayesian optimization\n",
        "- PSO\n",
        "- simulated annealling\n",
        "- CMA-ES\n"
      ]
    },
    {
      "cell_type": "code",
      "metadata": {
        "id": "9ao4qKgUEkOH"
      },
      "source": [
        "import numpy as np\n",
        "import matplotlib.pyplot as plt\n",
        "from sklearn import  datasets\n",
        "from sklearn.pipeline import  Pipeline\n",
        "from sklearn.svm import SVR\n",
        "from sklearn.utils.fixes import loguniform\n",
        "import scipy.stats as stats\n",
        "from sklearn.model_selection import GridSearchCV, RandomizedSearchCV\n"
      ],
      "execution_count": 1,
      "outputs": []
    },
    {
      "cell_type": "markdown",
      "metadata": {
        "id": "C71vLnh9C45H"
      },
      "source": [
        "## Importando conjunto de dados"
      ]
    },
    {
      "cell_type": "code",
      "metadata": {
        "colab": {
          "base_uri": "https://localhost:8080/",
          "height": 0
        },
        "id": "aXnIA9aqDJKv",
        "outputId": "f8ffd801-3939-4a42-999c-40736a78d8c1"
      },
      "source": [
        "#x_url = \"https://www.ic.unicamp.br/~wainer/cursos/1s2021/431/X.npy\" \n",
        "!wget https://www.ic.unicamp.br/~wainer/cursos/1s2021/431/X.npy\n",
        "!wget https://www.ic.unicamp.br/~wainer/cursos/1s2021/431/y.npy\n",
        "\n",
        "x_data = np.load(\"X.npy\")\n",
        "y_data = np.load(\"y.npy\")\n",
        "\n",
        "print(x_data.shape)\n",
        "print(y_data.shape)"
      ],
      "execution_count": 2,
      "outputs": [
        {
          "output_type": "stream",
          "text": [
            "--2021-05-03 21:06:23--  https://www.ic.unicamp.br/~wainer/cursos/1s2021/431/X.npy\n",
            "Resolving www.ic.unicamp.br (www.ic.unicamp.br)... 143.106.7.54, 2801:8a:40c0:cafe::54\n",
            "Connecting to www.ic.unicamp.br (www.ic.unicamp.br)|143.106.7.54|:443... connected.\n",
            "HTTP request sent, awaiting response... 200 OK\n",
            "Length: 52752 (52K)\n",
            "Saving to: ‘X.npy’\n",
            "\n",
            "X.npy               100%[===================>]  51.52K   216KB/s    in 0.2s    \n",
            "\n",
            "2021-05-03 21:06:24 (216 KB/s) - ‘X.npy’ saved [52752/52752]\n",
            "\n",
            "--2021-05-03 21:06:24--  https://www.ic.unicamp.br/~wainer/cursos/1s2021/431/y.npy\n",
            "Resolving www.ic.unicamp.br (www.ic.unicamp.br)... 143.106.7.54, 2801:8a:40c0:cafe::54\n",
            "Connecting to www.ic.unicamp.br (www.ic.unicamp.br)|143.106.7.54|:443... connected.\n",
            "HTTP request sent, awaiting response... 200 OK\n",
            "Length: 4176 (4.1K)\n",
            "Saving to: ‘y.npy’\n",
            "\n",
            "y.npy               100%[===================>]   4.08K  --.-KB/s    in 0s      \n",
            "\n",
            "2021-05-03 21:06:25 (232 MB/s) - ‘y.npy’ saved [4176/4176]\n",
            "\n",
            "(506, 13)\n",
            "(506,)\n"
          ],
          "name": "stdout"
        }
      ]
    },
    {
      "cell_type": "markdown",
      "metadata": {
        "id": "RdkJUZ_V9hHT"
      },
      "source": [
        "# RamdomSearch"
      ]
    },
    {
      "cell_type": "code",
      "metadata": {
        "colab": {
          "base_uri": "https://localhost:8080/",
          "height": 0
        },
        "id": "RL58vBkb9mk4",
        "outputId": "a7680ae2-8c58-4b3a-f8e3-7a9f0ad18f78"
      },
      "source": [
        "svr = SVR()\n",
        "\n",
        "parameters = {'C': loguniform(2**-5, 2**15),\n",
        " 'gamma': loguniform(2**-15, 2**3),\n",
        " 'epsilon': stats.uniform(0.05,1.0),\n",
        " 'kernel': ['rbf']}\n",
        "\n",
        "rnd_search = RandomizedSearchCV(svr, parameters, n_iter =125, cv=5, scoring='neg_root_mean_squared_error')\n",
        "\n",
        "rnd_search.fit(x_data, y_data)"
      ],
      "execution_count": 3,
      "outputs": [
        {
          "output_type": "execute_result",
          "data": {
            "text/plain": [
              "RandomizedSearchCV(cv=5, error_score=nan,\n",
              "                   estimator=SVR(C=1.0, cache_size=200, coef0=0.0, degree=3,\n",
              "                                 epsilon=0.1, gamma='scale', kernel='rbf',\n",
              "                                 max_iter=-1, shrinking=True, tol=0.001,\n",
              "                                 verbose=False),\n",
              "                   iid='deprecated', n_iter=125, n_jobs=None,\n",
              "                   param_distributions={'C': <scipy.stats._distn_infrastructure.rv_frozen object at 0x7f14b242a090>,\n",
              "                                        'epsilon': <scipy.stats._distn_infrastructure.rv_frozen object at 0x7f14a06fb450>,\n",
              "                                        'gamma': <scipy.stats._distn_infrastructure.rv_frozen object at 0x7f14a06fb190>,\n",
              "                                        'kernel': ['rbf']},\n",
              "                   pre_dispatch='2*n_jobs', random_state=None, refit=True,\n",
              "                   return_train_score=False,\n",
              "                   scoring='neg_root_mean_squared_error', verbose=0)"
            ]
          },
          "metadata": {
            "tags": []
          },
          "execution_count": 3
        }
      ]
    },
    {
      "cell_type": "code",
      "metadata": {
        "colab": {
          "base_uri": "https://localhost:8080/"
        },
        "id": "YvHXq3_AuFqs",
        "outputId": "87fb0f44-2196-42be-9105-02384f3dd4fc"
      },
      "source": [
        "\n",
        "print(\"C: \", rnd_search.best_params_['C'])\n",
        "print(\"gamma: \", rnd_search.best_params_['gamma'])\n",
        "print(\"epsilon: \" ,  rnd_search.best_params_['epsilon'])\n",
        "print(\"RMSE: \", -rnd_search.best_score_) "
      ],
      "execution_count": 15,
      "outputs": [
        {
          "output_type": "stream",
          "text": [
            "C:  9282.42040909595\n",
            "gamma:  7.886971178182264e-05\n",
            "epsilon:  0.09512013326056641\n",
            "RMSE:  4.741526563155499\n"
          ],
          "name": "stdout"
        }
      ]
    },
    {
      "cell_type": "markdown",
      "metadata": {
        "id": "0RaF409T9li3"
      },
      "source": [
        "## Otimização bayesiana\n",
        "\n"
      ]
    },
    {
      "cell_type": "code",
      "metadata": {
        "colab": {
          "base_uri": "https://localhost:8080/"
        },
        "id": "EbcpnLW199st",
        "outputId": "6e90d566-a479-4423-8312-faaa9005c55b"
      },
      "source": [
        " !pip install scikit-optimize\n",
        " \n",
        " from skopt import BayesSearchCV\n",
        " from skopt.space import Real, Categorical, Integer\n",
        "\n",
        " \n",
        " bay_opt = BayesSearchCV(\n",
        "    SVR(),\n",
        "     {\n",
        "         'C': Real(2**-5, 2**15, prior='log-uniform'),\n",
        "         'gamma': Real(2**-15, 2**3, prior='log-uniform'),\n",
        "         'epsilon': Real(0.05,1.0),\n",
        "         'kernel': Categorical(['rbf']),\n",
        "     },\n",
        "     n_iter=125,\n",
        "     cv = 5,\n",
        "     optimizer_kwargs = {'base_estimator': 'RF'},\n",
        "     scoring = 'neg_root_mean_squared_error'\n",
        "      )\n",
        " \n",
        " bay_opt.fit(x_data, y_data)"
      ],
      "execution_count": 10,
      "outputs": [
        {
          "output_type": "stream",
          "text": [
            "Requirement already satisfied: scikit-optimize in /usr/local/lib/python3.7/dist-packages (0.8.1)\n",
            "Requirement already satisfied: numpy>=1.13.3 in /usr/local/lib/python3.7/dist-packages (from scikit-optimize) (1.19.5)\n",
            "Requirement already satisfied: pyaml>=16.9 in /usr/local/lib/python3.7/dist-packages (from scikit-optimize) (20.4.0)\n",
            "Requirement already satisfied: joblib>=0.11 in /usr/local/lib/python3.7/dist-packages (from scikit-optimize) (1.0.1)\n",
            "Requirement already satisfied: scipy>=0.19.1 in /usr/local/lib/python3.7/dist-packages (from scikit-optimize) (1.4.1)\n",
            "Requirement already satisfied: scikit-learn>=0.20.0 in /usr/local/lib/python3.7/dist-packages (from scikit-optimize) (0.22.2.post1)\n",
            "Requirement already satisfied: PyYAML in /usr/local/lib/python3.7/dist-packages (from pyaml>=16.9->scikit-optimize) (3.13)\n"
          ],
          "name": "stdout"
        },
        {
          "output_type": "execute_result",
          "data": {
            "text/plain": [
              "BayesSearchCV(cv=5, error_score='raise',\n",
              "              estimator=SVR(C=1.0, cache_size=200, coef0=0.0, degree=3,\n",
              "                            epsilon=0.1, gamma='scale', kernel='rbf',\n",
              "                            max_iter=-1, shrinking=True, tol=0.001,\n",
              "                            verbose=False),\n",
              "              fit_params=None, iid=True, n_iter=125, n_jobs=1, n_points=1,\n",
              "              optimizer_kwargs={'base_estimator': 'RF'},\n",
              "              pre_dispatch='2*n_jobs', random_state=None, refit=True,\n",
              "              return_train_sco...alse, scoring='neg_root_mean_squared_error',\n",
              "              search_spaces={'C': Real(low=0.03125, high=32768, prior='log-uniform', transform='identity'),\n",
              "                             'epsilon': Real(low=0.05, high=1.0, prior='uniform', transform='identity'),\n",
              "                             'gamma': Real(low=3.0517578125e-05, high=8, prior='log-uniform', transform='identity'),\n",
              "                             'kernel': Categorical(categories=('rbf',), prior=None)},\n",
              "              verbose=0)"
            ]
          },
          "metadata": {
            "tags": []
          },
          "execution_count": 10
        }
      ]
    },
    {
      "cell_type": "code",
      "metadata": {
        "colab": {
          "base_uri": "https://localhost:8080/"
        },
        "id": "HrrxLRcENb9f",
        "outputId": "a0385d67-bdbf-4183-8fa5-fef17cb128c0"
      },
      "source": [
        "print(\"C: \", bay_opt.best_params_['C'])\n",
        "print(\"gamma: \", bay_opt.best_params_['gamma'])\n",
        "print(\"epsilon: \" ,  bay_opt.best_params_['epsilon'])\n",
        "print(\"RMSE: \", -bay_opt.best_score_) "
      ],
      "execution_count": 11,
      "outputs": [
        {
          "output_type": "stream",
          "text": [
            "C:  17584.02397411461\n",
            "gamma:  3.204648464589454e-05\n",
            "epsilon:  0.07688532594506936\n",
            "RMSE:  3.7321192781631205\n"
          ],
          "name": "stdout"
        }
      ]
    },
    {
      "cell_type": "markdown",
      "metadata": {
        "id": "od9s5jAyFbQ7"
      },
      "source": [
        "## CMA-ES"
      ]
    },
    {
      "cell_type": "code",
      "metadata": {
        "colab": {
          "base_uri": "https://localhost:8080/"
        },
        "id": "Oo8iTzgCFh3p",
        "outputId": "558dcf86-877e-4a9e-fd1d-85a2b728936d"
      },
      "source": [
        "!pip install cma\n",
        "from sklearn.model_selection import cross_val_score\n",
        "import cma\n",
        "\n",
        "def loss(xs, X_data, y_data):  \n",
        "  C_arg = 2**(xs[0]*20 - 5)\n",
        "  gamma_arg = 2**(xs[1]*18 - 15)\n",
        "  epsilon_arg = xs[2] + 0.05\n",
        "  \n",
        "  svr = SVR(kernel=\"rbf\", C=C_arg, epsilon=epsilon_arg , gamma=gamma_arg)\n",
        "  scores = cross_val_score(svr, X_data, y_data, cv=5, scoring = 'neg_root_mean_squared_error')\n",
        "\n",
        "  return scores.mean()\n",
        "\n",
        "x0 = np.random.uniform(0,1,3)\n",
        "\n",
        "es = cma.CMAEvolutionStrategy(\n",
        "    x0=x0,\n",
        "    sigma0=0.25,\n",
        "    inopts={'bounds': [0, 1], \"popsize\": 30},\n",
        ")\n",
        "\n",
        "es.opts.set({'maxiter': 125})\n",
        "\n",
        "while not es.stop():\n",
        "  solutions = es.ask()\n",
        "  es.tell(solutions, [loss(sol,x_data , y_data) for sol in solutions])\n",
        "  es.logger.add()\n",
        "  es.disp()\n"
      ],
      "execution_count": 13,
      "outputs": [
        {
          "output_type": "stream",
          "text": [
            "Collecting cma\n",
            "\u001b[?25l  Downloading https://files.pythonhosted.org/packages/36/c0/0a1c41f7cad0a51e07991cf86423d0e6651d035f1fe7dcff48e8858848f2/cma-3.0.3-py2.py3-none-any.whl (230kB)\n",
            "\u001b[K     |████████████████████████████████| 235kB 3.6MB/s \n",
            "\u001b[?25hRequirement already satisfied: numpy in /usr/local/lib/python3.7/dist-packages (from cma) (1.19.5)\n",
            "Installing collected packages: cma\n",
            "Successfully installed cma-3.0.3\n",
            "(15_w,30)-aCMA-ES (mu_w=8.6,w_1=20%) in dimension 3 (seed=230894, Mon May  3 21:32:26 2021)\n",
            "Iterat #Fevals   function value  axis ratio  sigma  min&max std  t[m:s]\n",
            "    1     30 -9.109104720728329e+00 1.0e+00 2.65e-01  2e-01  3e-01 2:50.0\n",
            "    2     60 -9.189295796230962e+00 1.9e+00 4.66e-01  4e-01  7e-01 4:36.8\n",
            "    3     90 -9.224472165228972e+00 2.3e+00 5.46e-01  4e-01  6e-01 5:21.1\n",
            "    4    120 -9.224627726090921e+00 1.8e+00 6.07e-01  4e-01  7e-01 5:32.5\n",
            "    6    180 -9.226217102165840e+00 2.3e+00 7.79e-01  3e-01  1e+00 5:38.7\n",
            "    8    240 -9.222536705610654e+00 4.9e+00 9.01e-01  3e-01  1e+00 5:45.7\n",
            "   10    300 -9.224742106676867e+00 5.8e+00 1.09e+00  2e-01  2e+00 5:51.9\n",
            "   13    390 -9.225034508716274e+00 1.2e+01 9.32e-01  8e-02  1e+00 6:00.7\n",
            "   16    480 -9.224683820071855e+00 9.4e+00 6.31e-01  5e-02  3e-01 6:08.8\n",
            "   21    630 -9.227087874928520e+00 8.0e+00 6.06e-01  4e-02  3e-01 6:18.5\n",
            "   27    810 -9.227304237709472e+00 6.1e+00 6.01e-01  4e-02  1e-01 6:29.5\n",
            "   34   1020 -9.227633030677861e+00 2.4e+00 6.28e-01  3e-02  6e-02 6:42.2\n",
            "   41   1230 -9.227711961760503e+00 8.3e+00 4.65e-01  2e-03  2e-02 6:54.9\n",
            "   49   1470 -9.227732816106396e+00 6.9e+01 3.27e-01  1e-04  1e-02 7:09.5\n",
            "   57   1710 -9.227735854867811e+00 3.2e+02 5.69e-01  4e-05  2e-02 7:24.1\n",
            "   66   1980 -9.227736126457694e+00 1.3e+03 3.26e-01  3e-06  3e-03 7:40.6\n",
            "   75   2250 -9.227736141489098e+00 2.3e+03 3.73e-01  4e-07  1e-03 7:57.1\n",
            "   85   2550 -9.227736144040250e+00 9.9e+03 2.26e-01  2e-08  2e-04 8:15.4\n",
            "NOTE (module=cma, iteration=85):  \n",
            "condition in coordinate system exceeded 1.1e+08, rescaled to 1.0e+00, \n",
            "condition changed from 9.8e+07 to 1.4e+00\n",
            "   95   2850 -9.227736144098753e+00 5.4e+00 1.45e-01  1e-09  5e-05 8:33.7\n",
            "  100   3000 -9.227736144102025e+00 1.2e+01 1.03e-01  2e-10  2e-05 8:42.9\n",
            "  111   3330 -9.227736144103170e+00 5.3e+01 4.61e-02  5e-12  3e-06 9:03.1\n",
            "  113   3390 -9.227736144103195e+00 7.4e+01 4.33e-02  3e-12  2e-06 9:06.7\n"
          ],
          "name": "stdout"
        }
      ]
    },
    {
      "cell_type": "code",
      "metadata": {
        "colab": {
          "base_uri": "https://localhost:8080/"
        },
        "id": "UcWtmON9Fv9J",
        "outputId": "fdd3f603-af09-467e-d86f-f21aa23e5115"
      },
      "source": [
        "C = 2**(es.result.xbest[0]*20 - 5)\n",
        "gamma = 2**(es.result.xbest[1]*18 - 15)\n",
        "epsilon = es.result.xbest[2] + 0.05\n",
        "\n",
        "print(\"C: \", C)\n",
        "print(\"gamma: \", gamma)\n",
        "print(\"epsilon: \" , epsilon)\n",
        "print(\"RMSE: \", -es.result.fbest) "
      ],
      "execution_count": 14,
      "outputs": [
        {
          "output_type": "stream",
          "text": [
            "C:  0.03125000000011353\n",
            "gamma:  7.999999999698504\n",
            "epsilon:  0.9431640625000897\n",
            "RMSE:  9.227736144103195\n"
          ],
          "name": "stdout"
        }
      ]
    }
  ]
}